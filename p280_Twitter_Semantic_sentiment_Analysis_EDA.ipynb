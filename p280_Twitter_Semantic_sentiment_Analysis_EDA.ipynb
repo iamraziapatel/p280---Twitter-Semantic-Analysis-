{
 "cells": [
  {
   "cell_type": "markdown",
   "metadata": {
    "id": "V5yNGdHnNy3a"
   },
   "source": [
    "**Business Objective:**\n",
    "1.\tNeed to get sentiment analysis of tweets gauge its impact and type\n",
    "Architecture level analysis:\n",
    "1.\tData transformation/Text processing using R/Python\n",
    "2.\tNeed to get sentiments Analysis and Emotion mining with some charts like histogram, Density plot, Barplot, pie-plot etc.\n",
    "3.\tDeployment through R Shiny or Flask/ Streamlit\n"
   ]
  },
  {
   "cell_type": "markdown",
   "metadata": {},
   "source": [
    "Text mining and classification of tweets involve several steps to process, analyze, and categorize the content of tweets. Here are the various steps involved:\n",
    "\n",
    "Data Collection:\n",
    "Gather a dataset of tweets that you want to analyze and classify. This could involve using Twitter APIs to fetch real-time tweets or utilizing existing datasets.\n",
    "\n",
    "Data Preprocessing:\n",
    "Clean and preprocess the raw tweet data to make it suitable for analysis. This involves tasks like removing special characters, URLs, mentions, emojis, and converting text to lowercase. Tokenization, stemming, and lemmatization might also be applied.\n",
    "\n",
    "Feature Extraction:\n",
    "Convert the preprocessed text into numerical or categorical features that machine learning algorithms can work with. Common methods include:\n",
    "\n",
    "Bag-of-Words (BoW): Represents the text as a matrix of word frequencies.\n",
    "TF-IDF (Term Frequency-Inverse Document Frequency): Reflects the importance of words in the document relative to the entire corpus.\n",
    "Word Embeddings: Generate dense vector representations of words, capturing semantic relationships.\n",
    "Text Classification:\n",
    "Apply machine learning or deep learning algorithms to classify tweets into predefined categories or labels. Common algorithms include:\n",
    "\n",
    "Naive Bayes: Simple probabilistic classifier.\n",
    "Support Vector Machines (SVM): Separates classes using hyperplanes.\n",
    "Random Forest: Ensemble of decision trees.\n",
    "Neural Networks: Deep learning models that can capture complex patterns in data.\n",
    "Training and Validation:\n",
    "Split your dataset into training and validation sets to train your classification model. This helps to evaluate its performance and make necessary adjustments.\n",
    "\n",
    "Model Evaluation:\n",
    "Use metrics like accuracy, precision, recall, F1-score, and confusion matrix to evaluate the performance of your model on the validation set.\n",
    "\n",
    "Hyperparameter Tuning:\n",
    "Experiment with different hyperparameters of your classification algorithm to optimize its performance. This can be done using techniques like grid search or random search.\n",
    "\n",
    "Model Deployment:\n",
    "Once you're satisfied with the model's performance, deploy it to classify new, unseen tweets. This might involve integrating it into a web application, API, or other systems.\n",
    "\n",
    "Handling Imbalanced Data (if applicable):\n",
    "Tweets dataset might be imbalanced, with some classes having significantly fewer examples. Techniques like oversampling, undersampling, or using specialized algorithms can help mitigate this issue.\n",
    "\n",
    "Sentiment Analysis (optional):\n",
    "If your goal is sentiment classification, you can perform sentiment analysis to determine the sentiment of the tweet (positive, negative, neutral).\n",
    "\n",
    "Real-time Classification (optional):\n",
    "If you're working with real-time data, set up a system to continuously collect and classify incoming tweets.\n",
    "\n",
    "Continuous Monitoring and Maintenance:\n",
    "Regularly monitor the performance of your model, as trends in language and content can change over time. Reevaluate and retrain your model if necessary.\n",
    "\n",
    "Remember that the success of text mining and tweet classification heavily depends on the quality of your data, the appropriateness of your preprocessing steps, the choice of classification algorithm, and the thoroughness of your evaluation process."
   ]
  },
  {
   "cell_type": "code",
   "execution_count": null,
   "metadata": {
    "colab": {
     "base_uri": "https://localhost:8080/"
    },
    "id": "m_BS0KGH1dyA",
    "outputId": "8bbd5c0f-2c6c-4155-8c9a-8de87eb3ddb6"
   },
   "outputs": [],
   "source": [
    "# !pip install pyspellchecker\n",
    "# !pip install unidecode"
   ]
  },
  {
   "cell_type": "code",
   "execution_count": null,
   "metadata": {},
   "outputs": [],
   "source": [
    "# !pip install wordcloud"
   ]
  },
  {
   "cell_type": "markdown",
   "metadata": {
    "id": "Cc4NADHM0JrZ"
   },
   "source": [
    "IMPORT LIBRARIES"
   ]
  },
  {
   "cell_type": "code",
   "execution_count": 1,
   "metadata": {
    "colab": {
     "base_uri": "https://localhost:8080/"
    },
    "id": "hQsMQxrg0N4w",
    "outputId": "02af95b9-6945-464e-eb2e-6ed2cafed9be"
   },
   "outputs": [],
   "source": [
    "import pandas as pd\n",
    "import matplotlib.pyplot as plt\n",
    "import numpy as np\n",
    "import re\n",
    "import nltk\n",
    "from nltk.corpus import stopwords\n",
    "from nltk.tokenize import word_tokenize\n",
    "import string\n",
    "from tqdm.notebook import tqdm\n",
    "from unidecode import unidecode\n",
    "from spellchecker import SpellChecker\n",
    "import seaborn as sns\n",
    "# nltk.download('stopwords')\n",
    "# nltk.download('punkt')\n",
    "# nltk.download('wordnet')"
   ]
  },
  {
   "cell_type": "code",
   "execution_count": null,
   "metadata": {},
   "outputs": [],
   "source": [
    "# nltk.download('omw-1.4')"
   ]
  },
  {
   "cell_type": "code",
   "execution_count": 2,
   "metadata": {
    "colab": {
     "base_uri": "https://localhost:8080/"
    },
    "id": "tpd068tB0J7X",
    "outputId": "98778514-9c97-46e6-bca5-3af22451bd61"
   },
   "outputs": [
    {
     "name": "stderr",
     "output_type": "stream",
     "text": [
      "C:\\Users\\HP\\AppData\\Local\\Temp\\ipykernel_17384\\2993164076.py:3: FutureWarning: The error_bad_lines argument has been deprecated and will be removed in a future version. Use on_bad_lines in the future.\n",
      "\n",
      "\n",
      "  df = pd.read_csv('tweet.csv', error_bad_lines=False)\n"
     ]
    }
   ],
   "source": [
    "# LOAD DATA\n",
    "\n",
    "df = pd.read_csv('tweet.csv', error_bad_lines=False)\n"
   ]
  },
  {
   "cell_type": "markdown",
   "metadata": {
    "id": "bNGHcV3YEA0Q"
   },
   "source": [
    "Initial Exploration:"
   ]
  },
  {
   "cell_type": "code",
   "execution_count": 3,
   "metadata": {
    "colab": {
     "base_uri": "https://localhost:8080/"
    },
    "id": "AUGi0k-etvYl",
    "outputId": "62543fb5-0571-4c81-b822-c765cde6c8f2"
   },
   "outputs": [
    {
     "data": {
      "text/plain": [
       "(81408, 2)"
      ]
     },
     "execution_count": 3,
     "metadata": {},
     "output_type": "execute_result"
    }
   ],
   "source": [
    "df.shape"
   ]
  },
  {
   "cell_type": "code",
   "execution_count": 5,
   "metadata": {
    "colab": {
     "base_uri": "https://localhost:8080/"
    },
    "id": "TqExeR1etNRj",
    "outputId": "cfc8e95e-5dc7-4c60-819b-ca394fbf5b07"
   },
   "outputs": [
    {
     "name": "stdout",
     "output_type": "stream",
     "text": [
      "<class 'pandas.core.frame.DataFrame'>\n",
      "RangeIndex: 81408 entries, 0 to 81407\n",
      "Data columns (total 2 columns):\n",
      " #   Column  Non-Null Count  Dtype \n",
      "---  ------  --------------  ----- \n",
      " 0   tweets  81408 non-null  object\n",
      " 1   class   81408 non-null  object\n",
      "dtypes: object(2)\n",
      "memory usage: 1.2+ MB\n"
     ]
    }
   ],
   "source": [
    "df.info()"
   ]
  },
  {
   "cell_type": "code",
   "execution_count": 6,
   "metadata": {
    "colab": {
     "base_uri": "https://localhost:8080/",
     "height": 143
    },
    "id": "qMdicIY6t4JA",
    "outputId": "6b311a0d-2f81-404f-b2fd-74369ef863ad"
   },
   "outputs": [
    {
     "data": {
      "text/html": [
       "<div>\n",
       "<style scoped>\n",
       "    .dataframe tbody tr th:only-of-type {\n",
       "        vertical-align: middle;\n",
       "    }\n",
       "\n",
       "    .dataframe tbody tr th {\n",
       "        vertical-align: top;\n",
       "    }\n",
       "\n",
       "    .dataframe thead th {\n",
       "        text-align: right;\n",
       "    }\n",
       "</style>\n",
       "<table border=\"1\" class=\"dataframe\">\n",
       "  <thead>\n",
       "    <tr style=\"text-align: right;\">\n",
       "      <th></th>\n",
       "      <th>tweets</th>\n",
       "      <th>class</th>\n",
       "    </tr>\n",
       "  </thead>\n",
       "  <tbody>\n",
       "    <tr>\n",
       "      <th>0</th>\n",
       "      <td>Be aware  dirty step to get money  #staylight ...</td>\n",
       "      <td>figurative</td>\n",
       "    </tr>\n",
       "    <tr>\n",
       "      <th>1</th>\n",
       "      <td>#sarcasm for #people who don't understand #diy...</td>\n",
       "      <td>figurative</td>\n",
       "    </tr>\n",
       "    <tr>\n",
       "      <th>2</th>\n",
       "      <td>@IminworkJeremy @medsingle #DailyMail readers ...</td>\n",
       "      <td>figurative</td>\n",
       "    </tr>\n",
       "    <tr>\n",
       "      <th>3</th>\n",
       "      <td>@wilw Why do I get the feeling you like games?...</td>\n",
       "      <td>figurative</td>\n",
       "    </tr>\n",
       "    <tr>\n",
       "      <th>4</th>\n",
       "      <td>-@TeacherArthurG @rweingarten You probably jus...</td>\n",
       "      <td>figurative</td>\n",
       "    </tr>\n",
       "  </tbody>\n",
       "</table>\n",
       "</div>"
      ],
      "text/plain": [
       "                                              tweets       class\n",
       "0  Be aware  dirty step to get money  #staylight ...  figurative\n",
       "1  #sarcasm for #people who don't understand #diy...  figurative\n",
       "2  @IminworkJeremy @medsingle #DailyMail readers ...  figurative\n",
       "3  @wilw Why do I get the feeling you like games?...  figurative\n",
       "4  -@TeacherArthurG @rweingarten You probably jus...  figurative"
      ]
     },
     "execution_count": 6,
     "metadata": {},
     "output_type": "execute_result"
    }
   ],
   "source": [
    "\n",
    "previousshape=df.shape\n",
    "df.head()"
   ]
  },
  {
   "cell_type": "code",
   "execution_count": 7,
   "metadata": {},
   "outputs": [
    {
     "data": {
      "image/png": "[encoded data removed]",
      "text/plain": [
       "<Figure size 1200x500 with 1 Axes>"
      ]
     },
     "metadata": {},
     "output_type": "display_data"
    }
   ],
   "source": [
    "# Bar plot for each of the new category\n",
    "category_count = df['class'].value_counts()\n",
    "\n",
    "categories = category_count.index\n",
    "df['class'].value_counts()\n",
    "fig = plt.figure(figsize= (12, 5))\n",
    "\n",
    "ax = fig.add_subplot(111)\n",
    "\n",
    "sns.barplot(x = category_count.index, y = category_count )\n",
    "\n",
    "for a, p in enumerate(ax.patches):\n",
    "    ax.annotate(f'{categories[a]}\\n' + format(p.get_height(), '.0f'), xy = (p.get_x() + p.get_width() / 2.0, p.get_height()), xytext = (0,-25), size = 13, color = 'white' , ha = 'center', va = 'center', textcoords = 'offset points', bbox = dict(boxstyle = 'round', facecolor='none',edgecolor='white', alpha = 0.5) )\n",
    "\n",
    "plt.xlabel('Categories', size = 15)\n",
    "\n",
    "plt.ylabel('The Number of tweets', size= 15)\n",
    "\n",
    "plt.xticks(size = 12)\n",
    "\n",
    "plt.title(\"The number of TWEETS by class\" , size = 18)\n",
    "\n",
    "plt.show()"
   ]
  },
  {
   "cell_type": "markdown",
   "metadata": {},
   "source": [
    "DUpLIcATE check "
   ]
  },
  {
   "cell_type": "code",
   "execution_count": 8,
   "metadata": {},
   "outputs": [
    {
     "name": "stdout",
     "output_type": "stream",
     "text": [
      "Duplicate Tweet count: 49\n",
      "Duplicate Tweet Rows:\n"
     ]
    }
   ],
   "source": [
    "# Check for duplicates wrt class and tweet\n",
    "tweet_duplicates = df[df.duplicated()]\n",
    "print(\"Duplicate Tweet count:\",len(tweet_duplicates))\n",
    "# Print the duplicate rows\n",
    "print(\"Duplicate Tweet Rows:\")\n",
    "tweet_duplicates.to_excel('duplicate2.xlsx', index=False)"
   ]
  },
  {
   "cell_type": "markdown",
   "metadata": {},
   "source": [
    "when checked with both tweet and class there are only 49"
   ]
  },
  {
   "cell_type": "code",
   "execution_count": 9,
   "metadata": {},
   "outputs": [
    {
     "name": "stdout",
     "output_type": "stream",
     "text": [
      "Duplicate Tweet count: 13411\n",
      "Duplicate Tweet Rows:\n"
     ]
    }
   ],
   "source": [
    "# Check for duplicates wrt class and tweet\n",
    "tweet_duplicates = df[df.duplicated('tweets')]\n",
    "print(\"Duplicate Tweet count:\",len(tweet_duplicates))\n",
    "# Print the duplicate rows\n",
    "print(\"Duplicate Tweet Rows:\")\n",
    "tweet_duplicates.to_excel('duplicate2.xlsx', index=False)"
   ]
  },
  {
   "cell_type": "markdown",
   "metadata": {},
   "source": [
    "when checked with only tweets column there seem to be 13411 duplicates\n",
    "couldnt identify why there are certain duplicates when i checked in excel with sorted tweet column\n",
    "so now decided to lower case and also remove space and special characters for all tweets and then check for duplicates"
   ]
  },
  {
   "cell_type": "code",
   "execution_count": 10,
   "metadata": {},
   "outputs": [
    {
     "name": "stdout",
     "output_type": "stream",
     "text": [
      "Exact Duplicate Tweet count: 26849\n",
      "Exact Duplicate Tweet Rows:\n",
      "0        beawaredirtysteptogetmoneystaylightstaywhitesa...\n",
      "2        iminworkjeremymedsingledailymailreadersbeingse...\n",
      "3               wilwwhydoigetthefeelingyoulikegamessarcasm\n",
      "4        teacherarthurgrweingartenyouprobablyjustmissed...\n",
      "5        tuneintonigezieandbetreatedtorachelplattensfig...\n",
      "                               ...                        \n",
      "80427              approachstickandgetinfectedfunnysarcasm\n",
      "80432     onlynewlywedsandliarshavesexeverydayfunnysarcasm\n",
      "80435    coraliealisonyeahletsgivewomenrightsbycensorin...\n",
      "80463    demolishinghomestargetingparentsstealinglandwo...\n",
      "80464    imatthelibraryandmyphonehasbeendeadforthemajor...\n",
      "Name: preprocessed_tweets, Length: 26849, dtype: object\n"
     ]
    }
   ],
   "source": [
    "# Preprocess the tweet text: lowercase and remove spaces and special characters\n",
    "df['preprocessed_tweets'] = df['tweets'].apply(lambda x: re.sub(r'[^a-zA-Z0-9]', '', x.lower()))\n",
    "\n",
    "# Drop duplicates based on the preprocessed 'tweets' column\n",
    "exact_duplicates = df[df.duplicated(subset=['preprocessed_tweets'], keep=False)]\n",
    "\n",
    "# Save the exact duplicate tweets to an Excel file\n",
    "exact_duplicates.to_excel('exact_duplicates.xlsx', index=False)\n",
    "\n",
    "print(\"Exact Duplicate Tweet count:\", len(exact_duplicates))\n",
    "print(\"Exact Duplicate Tweet Rows:\")\n",
    "print(exact_duplicates['preprocessed_tweets'])"
   ]
  },
  {
   "cell_type": "code",
   "execution_count": 22,
   "metadata": {},
   "outputs": [
    {
     "name": "stderr",
     "output_type": "stream",
     "text": [
      "C:\\Users\\HP\\AppData\\Local\\Temp\\ipykernel_17384\\593854730.py:13: SettingWithCopyWarning: \n",
      "A value is trying to be set on a copy of a slice from a DataFrame\n",
      "\n",
      "See the caveats in the documentation: https://pandas.pydata.org/pandas-docs/stable/user_guide/indexing.html#returning-a-view-versus-a-copy\n",
      "  filtered_df.drop_duplicates(subset=['preprocessed_tweets'], keep='first', inplace=True)\n"
     ]
    },
    {
     "name": "stdout",
     "output_type": "stream",
     "text": [
      "Final Data Count: 81337\n"
     ]
    }
   ],
   "source": [
    "\n",
    "\n",
    "# Assuming you have already loaded the dataframe 'df'\n",
    "\n",
    "# Preprocess the tweet text: lowercase and remove spaces and special characters\n",
    "df['preprocessed_tweets'] = df['tweets'].apply(lambda x: re.sub(r'[^a-zA-Z0-9]', '', x.lower()))\n",
    "\n",
    "# Filter rows where class is 'regular', 'sarcasm', or 'irony'\n",
    "filtered_df = df[df['class'].isin(['regular', 'sarcasm', 'irony'])]\n",
    "\n",
    "# Drop duplicates based on the preprocessed 'tweets' column\n",
    "filtered_df.drop_duplicates(subset=['preprocessed_tweets'], keep='first', inplace=True)\n",
    "\n",
    "# Filter and include records with class 'figurative'\n",
    "figurative_records = df[df['class'] == 'figurative']\n",
    "\n",
    "# Concatenate filtered_df and figurative_records\n",
    "final_df = pd.concat([filtered_df, figurative_records])\n",
    "\n",
    "# Save the final DataFrame to an Excel file\n",
    "final_df.to_excel('final_data.xlsx', index=False)\n",
    "\n",
    "print(\"Final Data Count:\", len(final_df))\n"
   ]
  },
  {
   "cell_type": "code",
   "execution_count": 23,
   "metadata": {},
   "outputs": [
    {
     "name": "stdout",
     "output_type": "stream",
     "text": [
      "Filtered Data Count: 67964\n"
     ]
    }
   ],
   "source": [
    "\n",
    "\n",
    "# Filter rows where class is 'regular', 'sarcasm', or 'figurative'\n",
    "filtered_df1 = final_df[final_df['class'].isin(['irony', 'sarcasm', 'figurative'])]\n",
    "\n",
    "# Find duplicates based on preprocessed text and class\n",
    "duplicates = filtered_df1[filtered_df1.duplicated(subset=['preprocessed_tweets'], keep=False)]\n",
    "\n",
    "# Identify duplicates with class 'regular' or 'sarcasm'\n",
    "to_delete = duplicates[duplicates['class'].isin(['irony', 'sarcasm'])]\n",
    "\n",
    "# Drop the identified duplicates from the original DataFrame\n",
    "filtered_df1 = filtered_df1.drop(to_delete.index)\n",
    "\n",
    "\n",
    "# Add records with 'regular' class back to the filtered DataFrame\n",
    "regular_records = final_df[final_df['class'] == 'regular']\n",
    "filtered_df1 = pd.concat([filtered_df1, regular_records])\n",
    "\n",
    "# Save the filtered DataFrame to an Excel file\n",
    "filtered_df1.to_excel('filtered_data.xlsx', index=False)\n",
    "\n",
    "print(\"Filtered Data Count:\", len(filtered_df1))\n"
   ]
  },
  {
   "cell_type": "code",
   "execution_count": 24,
   "metadata": {},
   "outputs": [
    {
     "data": {
      "image/png": "[encoded data removed]",
      "text/plain": [
       "<Figure size 1200x500 with 1 Axes>"
      ]
     },
     "metadata": {},
     "output_type": "display_data"
    }
   ],
   "source": [
    "# Bar plot for each of the new category\n",
    "category_count = filtered_df1['class'].value_counts()\n",
    "\n",
    "categories = category_count.index\n",
    "filtered_df1['class'].value_counts()\n",
    "fig = plt.figure(figsize= (12, 5))\n",
    "\n",
    "ax = fig.add_subplot(111)\n",
    "\n",
    "sns.barplot(x = category_count.index, y = category_count )\n",
    "\n",
    "for a, p in enumerate(ax.patches):\n",
    "    ax.annotate(f'{categories[a]}\\n' + format(p.get_height(), '.0f'), xy = (p.get_x() + p.get_width() / 2.0, p.get_height()), xytext = (0,-25), size = 13, color = 'white' , ha = 'center', va = 'center', textcoords = 'offset points', bbox = dict(boxstyle = 'round', facecolor='none',edgecolor='white', alpha = 0.5) )\n",
    "\n",
    "plt.xlabel('Categories', size = 15)\n",
    "\n",
    "plt.ylabel('The Number of tweets', size= 15)\n",
    "\n",
    "plt.xticks(size = 12)\n",
    "\n",
    "plt.title(\"The number of TWEETS by class\" , size = 18)\n",
    "\n",
    "plt.show()"
   ]
  },
  {
   "cell_type": "markdown",
   "metadata": {},
   "source": [
    "business decided to retain the figurative and delete the irony and sarcasm\n",
    "after removing the duplicates - the dataset has highly unbanced classes"
   ]
  },
  {
   "cell_type": "markdown",
   "metadata": {},
   "source": [
    "checked in excel' exact_duplicates-analysis' using sort - Once the spaces and special charachters were removed and the processed tweets were compared there were 26849 tweets \n",
    "\n",
    "\n",
    "\n",
    "Row Labels\tCount of class\n",
    "figurative\t13381\n",
    "irony\t8125\n",
    "regular\t50\n",
    "sarcasm\t5293\n",
    "\n",
    "Grand Total\t26849\n",
    "\n",
    "insights - for 13381 tweets - all those that are duplicates with class sarcasm have a copy marked  figurative \n",
    "            same is the case for all those that are duplicates with class irony are also marked sarcasm.\n",
    "\n",
    "There are additioal -13418 when sarcasm and irony ROW COUNTS are added\n",
    "so there are additional 37 duplicates either in sarcasm or irony or regular apart from figurative.\n",
    "\n",
    "18 rows are showing only irony out of all 18 only 1 seems to be relevant irony statment\n",
    "1 -some girls want to be treated like queens but they do not know how to be one. #irony which has 9 duplicate values out of the 18\n",
    "2 -the other are #ironic,#irony,\n",
    "3- mikloshvanegan: #russia #cartoon 4 #bilderberg #lobbyists:yet #wikileaks, #snowden fled 2..hmm, #irony #ows #tpp #… … without snowden, how …,\n",
    "4-#russia #cartoon 4 #bilderberg #lobbyists:yet #wikileaks, #snowden fled 2..hmm, #irony #ows #tpp #gh2015 #tlv #ge2015 … without snowden, ho…\n",
    "\n",
    "5 -#sarcasm with class sarcasm 4 duplciate values\n",
    "\n",
    "\n",
    "which we can remove \n",
    "\n",
    "for the 50 regulars we can remove duplicates as same tweets have been reposted.\n",
    "\n",
    "Actionable insights FOR-TOTAL- 13469\n",
    "50 REGULARS - we will remove duplicates for regulars.\n",
    "13382 - IN case where they are tagged as figurative or sarcasm and irony we will put them all under figurative and then remove           the duplicates.IE WE will keep the figurative class tweets.\n",
    "37-  IRONY OR SARCASM WE CAN REMOVE THE DUPLICATES"
   ]
  },
  {
   "cell_type": "code",
   "execution_count": 15,
   "metadata": {},
   "outputs": [
    {
     "name": "stdout",
     "output_type": "stream",
     "text": [
      "Non-duplicate regular class DataFrame saved to: non_duplicate_regular.xlsx\n"
     ]
    },
    {
     "name": "stderr",
     "output_type": "stream",
     "text": [
      "C:\\Users\\HP\\AppData\\Local\\Temp\\ipykernel_23888\\4209901806.py:26: FutureWarning: The frame.append method is deprecated and will be removed from pandas in a future version. Use pandas.concat instead.\n",
      "  df = df.append(non_duplicate_regular)\n"
     ]
    },
    {
     "name": "stdout",
     "output_type": "stream",
     "text": [
      "Filtered DataFrame without duplicates saved to: filtered_no_duplicates.xlsx\n"
     ]
    },
    {
     "data": {
      "text/plain": [
       "(81358, 3)"
      ]
     },
     "execution_count": 15,
     "metadata": {},
     "output_type": "execute_result"
    }
   ],
   "source": [
    "import pandas as pd\n",
    "import re\n",
    "\n",
    "# Assuming you have a DataFrame called df\n",
    "\n",
    "# Preprocess the 'tweets' column: lowercase and remove spaces and special characters\n",
    "df['preprocessed_tweets'] = df['tweets'].apply(lambda x: re.sub(r'[^a-zA-Z0-9]', '', x.lower()))\n",
    "\n",
    "# Remove duplicates based on condition: class is 'regular' and preprocessed tweets are duplicated\n",
    "# non_duplicate_regular = df[df['class'] == 'regular'].drop_duplicates(subset=['preprocessed_tweets'], keep=False)\n",
    "# Drop duplicates where class is 'regular', 'sarcasm', or 'irony'\n",
    "classes_to_check = ['regular', 'sarcasm', 'irony']\n",
    "non_duplicate_rows = df[~df['class'].isin(classes_to_check) | \n",
    "                        (~df['class'].duplicated(keep=False) & df['class'].isin(classes_to_check))]\n",
    "\n",
    "# Save the non-duplicate regular class DataFrame without duplicates to a new Excel file\n",
    "non_duplicate_regular_file_path = 'non_duplicate_regular.xlsx'\n",
    "non_duplicate_regular.to_excel(non_duplicate_regular_file_path, index=False)\n",
    "\n",
    "print(\"Non-duplicate regular class DataFrame saved to:\", non_duplicate_regular_file_path)\n",
    "\n",
    "# Remove 'regular' class rows from the original DataFrame\n",
    "df = df[df['class'] != 'regular']\n",
    "\n",
    "# Append the remaining non-duplicate regular class rows back to the original DataFrame\n",
    "df = df.append(non_duplicate_regular)\n",
    "\n",
    "# Save the modified DataFrame to a new Excel file\n",
    "filtered_file_path = 'filtered_no_duplicates.xlsx'\n",
    "df.to_excel(filtered_file_path, index=False)\n",
    "\n",
    "print(\"Filtered DataFrame without duplicates saved to:\", filtered_file_path)\n",
    "df.shape"
   ]
  },
  {
   "cell_type": "code",
   "execution_count": null,
   "metadata": {},
   "outputs": [],
   "source": [
    "# check how many records are remaining.\n",
    "\n"
   ]
  },
  {
   "cell_type": "code",
   "execution_count": 16,
   "metadata": {
    "colab": {
     "base_uri": "https://localhost:8080/"
    },
    "id": "2so7b08GGXzh",
    "outputId": "70a7ec84-ed32-4c9f-91e3-2213df847da1"
   },
   "outputs": [
    {
     "data": {
      "image/png": "[encoded data removed]",
      "text/plain": [
       "<Figure size 1200x500 with 1 Axes>"
      ]
     },
     "metadata": {},
     "output_type": "display_data"
    }
   ],
   "source": [
    "# Bar plot for each of the new category\n",
    "category_count = df['class'].value_counts()\n",
    "\n",
    "categories = category_count.index\n",
    "df['class'].value_counts()\n",
    "fig = plt.figure(figsize= (12, 5))\n",
    "\n",
    "ax = fig.add_subplot(111)\n",
    "\n",
    "sns.barplot(x = category_count.index, y = category_count )\n",
    "\n",
    "for a, p in enumerate(ax.patches):\n",
    "    ax.annotate(f'{categories[a]}\\n' + format(p.get_height(), '.0f'), xy = (p.get_x() + p.get_width() / 2.0, p.get_height()), xytext = (0,-25), size = 13, color = 'white' , ha = 'center', va = 'center', textcoords = 'offset points', bbox = dict(boxstyle = 'round', facecolor='none',edgecolor='white', alpha = 0.5) )\n",
    "\n",
    "plt.xlabel('Categories', size = 15)\n",
    "\n",
    "plt.ylabel('The Number of tweets', size= 15)\n",
    "\n",
    "plt.xticks(size = 12)\n",
    "\n",
    "plt.title(\"The number of TWEETS by class\" , size = 18)\n",
    "\n",
    "plt.show()"
   ]
  },
  {
   "cell_type": "markdown",
   "metadata": {
    "id": "a9ZcjwNZDUKb"
   },
   "source": [
    "Topic Modeling:\n",
    "\n",
    "Use techniques like Latent Dirichlet Allocation (LDA) to identify underlying topics within the tweets.\n",
    "Explore how different topics relate to sentiment and engagement.\n",
    "\n",
    "Word Frequency Analysis:\n",
    "\n",
    "Create word clouds to visualize frequently used words in positive, negative, and neutral tweets.\n",
    "\n",
    "Identify keywords associated with different sentiment categories.\n",
    "Sentiment Analysis:Calculate sentiment scores for each tweet using tools like VADER, TextBlob, or custom models.\n",
    "Group tweets into positive, negative, and neutral sentiment categories.\n",
    "Analyze the distribution of sentiments over time to identify trends.\n",
    "\n",
    "Trend Analysis:\n",
    "\n",
    "Identify hashtags and mentions to understand popular topics and users.\n",
    "Plot the frequency of specific hashtags or mentions to visualize trends.\n",
    "Analyze how certain events or topics correlate with changes in sentiment."
   ]
  },
  {
   "cell_type": "code",
   "execution_count": null,
   "metadata": {
    "colab": {
     "base_uri": "https://localhost:8080/",
     "height": 143
    },
    "id": "kul_l7_EFci8",
    "outputId": "90b9ccc7-d2da-4efe-d905-d8345d0722f6"
   },
   "outputs": [],
   "source": [
    "df.head()"
   ]
  },
  {
   "cell_type": "markdown",
   "metadata": {
    "id": "QMwT4zIg-hMS"
   },
   "source": [
    "playing with data"
   ]
  },
  {
   "cell_type": "code",
   "execution_count": null,
   "metadata": {
    "colab": {
     "base_uri": "https://localhost:8080/",
     "height": 265
    },
    "id": "Y0o6cLQcCzgN",
    "outputId": "08736cf4-638b-44cf-8e6b-ba5e6ec98c0b"
   },
   "outputs": [],
   "source": [
    "# Tokenization\n",
    "df['tokenized_tweets'] = df['tweets'].apply(word_tokenize)\n",
    "\n",
    "# Basic Analysis\n",
    "df['word_count'] = df['tokenized_tweets'].apply(len)\n",
    "\n",
    "# Calculate basic statistics\n",
    "avg_word_count = df['word_count'].mean()\n",
    "max_word_count = df['word_count'].max()\n",
    "min_word_count = df['word_count'].min()\n",
    "stddev = df['word_count'].std()\n",
    "\n",
    "print(\"Average Word Count:\", avg_word_count)\n",
    "print(\"Max Word Count:\", max_word_count)\n",
    "print(\"Min Word Count:\", min_word_count)\n",
    "print(\"Std dev:\", stddev)\n",
    "df.head()\n"
   ]
  },
  {
   "cell_type": "code",
   "execution_count": 13,
   "metadata": {},
   "outputs": [
    {
     "ename": "KeyError",
     "evalue": "'word_count'",
     "output_type": "error",
     "traceback": [
      "\u001b[1;31m---------------------------------------------------------------------------\u001b[0m",
      "\u001b[1;31mKeyError\u001b[0m                                  Traceback (most recent call last)",
      "File \u001b[1;32mD:\\INSTALLED_HP\\anaconda3\\Lib\\site-packages\\pandas\\core\\indexes\\base.py:3802\u001b[0m, in \u001b[0;36mIndex.get_loc\u001b[1;34m(self, key, method, tolerance)\u001b[0m\n\u001b[0;32m   3801\u001b[0m \u001b[38;5;28;01mtry\u001b[39;00m:\n\u001b[1;32m-> 3802\u001b[0m     \u001b[38;5;28;01mreturn\u001b[39;00m \u001b[38;5;28mself\u001b[39m\u001b[38;5;241m.\u001b[39m_engine\u001b[38;5;241m.\u001b[39mget_loc(casted_key)\n\u001b[0;32m   3803\u001b[0m \u001b[38;5;28;01mexcept\u001b[39;00m \u001b[38;5;167;01mKeyError\u001b[39;00m \u001b[38;5;28;01mas\u001b[39;00m err:\n",
      "File \u001b[1;32mD:\\INSTALLED_HP\\anaconda3\\Lib\\site-packages\\pandas\\_libs\\index.pyx:138\u001b[0m, in \u001b[0;36mpandas._libs.index.IndexEngine.get_loc\u001b[1;34m()\u001b[0m\n",
      "File \u001b[1;32mD:\\INSTALLED_HP\\anaconda3\\Lib\\site-packages\\pandas\\_libs\\index.pyx:165\u001b[0m, in \u001b[0;36mpandas._libs.index.IndexEngine.get_loc\u001b[1;34m()\u001b[0m\n",
      "File \u001b[1;32mpandas\\_libs\\hashtable_class_helper.pxi:5745\u001b[0m, in \u001b[0;36mpandas._libs.hashtable.PyObjectHashTable.get_item\u001b[1;34m()\u001b[0m\n",
      "File \u001b[1;32mpandas\\_libs\\hashtable_class_helper.pxi:5753\u001b[0m, in \u001b[0;36mpandas._libs.hashtable.PyObjectHashTable.get_item\u001b[1;34m()\u001b[0m\n",
      "\u001b[1;31mKeyError\u001b[0m: 'word_count'",
      "\nThe above exception was the direct cause of the following exception:\n",
      "\u001b[1;31mKeyError\u001b[0m                                  Traceback (most recent call last)",
      "Cell \u001b[1;32mIn[13], line 2\u001b[0m\n\u001b[0;32m      1\u001b[0m \u001b[38;5;66;03m# Distribution of word counts\u001b[39;00m\n\u001b[1;32m----> 2\u001b[0m word_count_distribution \u001b[38;5;241m=\u001b[39m df[\u001b[38;5;124m'\u001b[39m\u001b[38;5;124mword_count\u001b[39m\u001b[38;5;124m'\u001b[39m]\u001b[38;5;241m.\u001b[39mvalue_counts()\u001b[38;5;241m.\u001b[39msort_index()\n\u001b[0;32m      4\u001b[0m \u001b[38;5;66;03m# Set the style for the plot\u001b[39;00m\n\u001b[0;32m      5\u001b[0m sns\u001b[38;5;241m.\u001b[39mset(style\u001b[38;5;241m=\u001b[39m\u001b[38;5;124m\"\u001b[39m\u001b[38;5;124mwhitegrid\u001b[39m\u001b[38;5;124m\"\u001b[39m)\n",
      "File \u001b[1;32mD:\\INSTALLED_HP\\anaconda3\\Lib\\site-packages\\pandas\\core\\frame.py:3807\u001b[0m, in \u001b[0;36mDataFrame.__getitem__\u001b[1;34m(self, key)\u001b[0m\n\u001b[0;32m   3805\u001b[0m \u001b[38;5;28;01mif\u001b[39;00m \u001b[38;5;28mself\u001b[39m\u001b[38;5;241m.\u001b[39mcolumns\u001b[38;5;241m.\u001b[39mnlevels \u001b[38;5;241m>\u001b[39m \u001b[38;5;241m1\u001b[39m:\n\u001b[0;32m   3806\u001b[0m     \u001b[38;5;28;01mreturn\u001b[39;00m \u001b[38;5;28mself\u001b[39m\u001b[38;5;241m.\u001b[39m_getitem_multilevel(key)\n\u001b[1;32m-> 3807\u001b[0m indexer \u001b[38;5;241m=\u001b[39m \u001b[38;5;28mself\u001b[39m\u001b[38;5;241m.\u001b[39mcolumns\u001b[38;5;241m.\u001b[39mget_loc(key)\n\u001b[0;32m   3808\u001b[0m \u001b[38;5;28;01mif\u001b[39;00m is_integer(indexer):\n\u001b[0;32m   3809\u001b[0m     indexer \u001b[38;5;241m=\u001b[39m [indexer]\n",
      "File \u001b[1;32mD:\\INSTALLED_HP\\anaconda3\\Lib\\site-packages\\pandas\\core\\indexes\\base.py:3804\u001b[0m, in \u001b[0;36mIndex.get_loc\u001b[1;34m(self, key, method, tolerance)\u001b[0m\n\u001b[0;32m   3802\u001b[0m     \u001b[38;5;28;01mreturn\u001b[39;00m \u001b[38;5;28mself\u001b[39m\u001b[38;5;241m.\u001b[39m_engine\u001b[38;5;241m.\u001b[39mget_loc(casted_key)\n\u001b[0;32m   3803\u001b[0m \u001b[38;5;28;01mexcept\u001b[39;00m \u001b[38;5;167;01mKeyError\u001b[39;00m \u001b[38;5;28;01mas\u001b[39;00m err:\n\u001b[1;32m-> 3804\u001b[0m     \u001b[38;5;28;01mraise\u001b[39;00m \u001b[38;5;167;01mKeyError\u001b[39;00m(key) \u001b[38;5;28;01mfrom\u001b[39;00m \u001b[38;5;21;01merr\u001b[39;00m\n\u001b[0;32m   3805\u001b[0m \u001b[38;5;28;01mexcept\u001b[39;00m \u001b[38;5;167;01mTypeError\u001b[39;00m:\n\u001b[0;32m   3806\u001b[0m     \u001b[38;5;66;03m# If we have a listlike key, _check_indexing_error will raise\u001b[39;00m\n\u001b[0;32m   3807\u001b[0m     \u001b[38;5;66;03m#  InvalidIndexError. Otherwise we fall through and re-raise\u001b[39;00m\n\u001b[0;32m   3808\u001b[0m     \u001b[38;5;66;03m#  the TypeError.\u001b[39;00m\n\u001b[0;32m   3809\u001b[0m     \u001b[38;5;28mself\u001b[39m\u001b[38;5;241m.\u001b[39m_check_indexing_error(key)\n",
      "\u001b[1;31mKeyError\u001b[0m: 'word_count'"
     ]
    }
   ],
   "source": [
    "\n",
    "# Distribution of word counts\n",
    "word_count_distribution = df['word_count'].value_counts().sort_index()\n",
    "\n",
    "# Set the style for the plot\n",
    "sns.set(style=\"whitegrid\")\n",
    "\n",
    "# Create a figure with a single subplot\n",
    "plt.figure(figsize=(10, 6))\n",
    "\n",
    "# Define a color palette for gradient coloring\n",
    "cmap = sns.color_palette(\"RdYlBu\", n_colors=len(word_count_distribution))\n",
    "\n",
    "# Bar Plot with Gradient Colored Bars\n",
    "sns.barplot(ax=plt.gca(), x=word_count_distribution.index, y=word_count_distribution.values, palette=cmap)\n",
    "plt.xlabel('Word Count')\n",
    "plt.ylabel('Frequency')\n",
    "plt.title('Word Count Distribution - Bar Plot')\n",
    "\n",
    "\n",
    "plt.tight_layout()\n",
    "plt.show()\n"
   ]
  },
  {
   "cell_type": "markdown",
   "metadata": {},
   "source": [
    "INSIGHTS:THIS shows that a approximately normal distribution of word counts for our tweets data. thus this data follows the Empirical rule.\n",
    "68% tweets(data) lies within the first std deviation.hence most of the data lies between 15 to 26 counts\n",
    "Average Word Count: 20.903252751572328\n",
    "Max Word Count: 73\n",
    "Min Word Count: 2\n",
    "Std dev: 6.530869292910582\n",
    "highest frequency of tweets can be seen with the words count of 22 to 28 words this shows that most users prefer to write 22 to 28 words.\n"
   ]
  },
  {
   "cell_type": "code",
   "execution_count": null,
   "metadata": {},
   "outputs": [],
   "source": [
    "from wordcloud import WordCloud\n",
    "from collections import Counter\n",
    "\n",
    "\n",
    "\n",
    "# Combine all tokenized tweets into a single list of words\n",
    "all_words = [word for sublist in df['tokenized_tweets'] for word in sublist]\n",
    "\n",
    "# Calculate the total number of unique words\n",
    "total_unique_words = len(set(all_words))\n",
    "print(\"Total unique Words:\", total_unique_words)\n",
    "\n",
    "# Create a DataFrame with word frequencies\n",
    "word_freq = Counter(all_words)\n",
    "word_freq_df = pd.DataFrame(word_freq.items(), columns=['Word', 'Frequency'])\n",
    "word_freq_df = word_freq_df.sort_values(by='Frequency', ascending=False)\n",
    "\n",
    "# Show only the top 4000 frequent words\n",
    "top_words = word_freq_df.head(10000)\n",
    "\n",
    "print(\"Top 4000 Word Frequencies DataFrame:\")\n",
    "print(top_words)\n",
    "\n",
    "# Create a WordCloud object\n",
    "wordcloud = WordCloud(width=800, height=400, background_color='white').generate_from_frequencies(word_freq)\n",
    "\n",
    "# Display the WordCloud using matplotlib\n",
    "plt.figure(figsize=(10, 6))\n",
    "plt.imshow(wordcloud, interpolation='bilinear')\n",
    "plt.axis('off')\n",
    "plt.title('Word Cloud - Top 4000 Most Frequent Words in Tokenized Tweets')\n",
    "plt.show()\n"
   ]
  },
  {
   "cell_type": "code",
   "execution_count": null,
   "metadata": {},
   "outputs": [],
   "source": [
    "from collections import Counter\n",
    "\n",
    "# Assuming you have already loaded your DataFrame df and performed tokenization\n",
    "\n",
    "# Combine all tokenized tweets into a single list of words\n",
    "all_words = [word for sublist in df['tokenized_tweets'] for word in sublist]\n",
    "\n",
    "# Calculate word frequencies\n",
    "word_freq = Counter(all_words)\n",
    "\n",
    "# Filter words with frequencies greater than 5000\n",
    "popular_words = {word: freq for word, freq in word_freq.items() if freq > 1}\n",
    "\n",
    "# Calculate the total number of popular words\n",
    "total_popular_words = len(popular_words)\n",
    "print(\"words in the descending order of popularity :\", total_popular_words)\n",
    "print('-------------------------------------------')\n",
    "## Sort the popular_words dictionary based on frequencies in descending order\n",
    "sorted_popular_words = dict(sorted(popular_words.items(), key=lambda item: item[1], reverse=True))\n",
    "\n",
    "# Path to the output text file\n",
    "output_file_path = 'popular_words_output.txt'\n",
    "\n",
    "# Open the file for writing with UTF-8 encoding\n",
    "with open(output_file_path, 'w', encoding='utf-8') as f:\n",
    "    # Display and write words with frequencies greater than 1 in descending order\n",
    "    for word, freq in sorted_popular_words.items():\n",
    "        output_line = f\"Word: {word}, Frequency: {freq}\\n\"\n",
    "        print(output_line, end='')  # Print to console\n",
    "        f.write(output_line)  # Write to file\n",
    "\n",
    "        \n",
    "print(\"Output has been saved to:\", output_file_path)\n"
   ]
  },
  {
   "cell_type": "markdown",
   "metadata": {},
   "source": [
    "Insights: Most common words used puntuations /url FOR FURTHER PROCESSING\n",
    "Actionable insights -TO CREATE CUSTOM STOPWORD DICTIONARY BE REMOVED \n",
    "Word: #, Frequency: 179368\n",
    "Word: :, Frequency: 43793\n",
    "Word: ., Frequency: 42272\n",
    "Word: @, Frequency: 41816\n",
    "Word: the, Frequency: 29956\n",
    "Word: http, Frequency: 25599\n",
    "Word: ,, Frequency: 21081\n",
    "Word: !, Frequency: 18736\n",
    "Word: ?, Frequency: 12756\n",
    "Word: ..., Frequency: 7996\n",
    "Word: '', Frequency: 5912\n",
    "Word: ``, Frequency: 5834\n",
    "Word: ;, Frequency: 5047\n",
    "Word: &, Frequency: 4235\n",
    "Word: -, Frequency: 3604\n",
    "Word: ), Frequency: 2822\n",
    "Word: (, Frequency: 1928\n",
    "Word: .., Frequency: 1824\n",
    "Word: ...., Frequency: 1156\n",
    "Word: *, Frequency: 1018\n",
    "Word: $, Frequency: 826\n",
    "d: …, Frequency: 692\n",
    "Word: |, Frequency: 558\n",
    "\n",
    "1]Word: Sarcasm, Frequency: 4297 this #Sarcasm might meddle with our label predictions since most of them are tagged to statments that have figurative labels.\n",
    "\n",
    "2] there are 2 types of hash tags used one is as labelling the statment and one is used as an name entity hence we will target the hash tags at the end of the tweets only.\n",
    "eg. 'Aamir calls #BajrangiBhaijaan as Salman's best movie yet! You decide whether it's #sarcasm or a compliment!' - Name entity recognition.\n",
    "Be aware  dirty step to get money  #staylight #staywhite  #sarcastic #moralneeded @â€¦ https://t.co/Oj6BdyX3WG\n",
    "!\n",
    "\n",
    "\n",
    "ABBREVIATIONS USED-\n",
    "$$$s ,$ IS AN abbr for 'Dollar'  \n",
    "&amp; - is used as an abbreviation for 'and'\n"
   ]
  },
  {
   "cell_type": "code",
   "execution_count": null,
   "metadata": {},
   "outputs": [],
   "source": [
    "import pandas as pd\n",
    "from nltk.tokenize import word_tokenize\n",
    "import re\n",
    "\n",
    "\n",
    "# List of words to remove\n",
    "words_to_remove = ['#','.', '@', 'the', ',', '!', '?', '...', \"''\", \"``\", ';', '&', '-', ')', '(', '..', '....', '*', 'd:', '…', '|']\n",
    "\n",
    "# Combine custom words to remove with NLTK's stopwords\n",
    "custom_stopwords = set(words_to_remove)\n",
    "\n",
    "# Tokenization and preprocessing\n",
    "df['tokenized_tweets'] = df['tweets'].apply(word_tokenize)\n",
    "\n",
    "# Define a regular expression pattern to match URLs\n",
    "url_pattern = r'https?://\\S+'\n",
    "\n",
    "# Remove URLs from tokenized tweets using regex\n",
    "df['preprocessed_tweets'] = df['tokenized_tweets'].apply(lambda tokens: [word for word in tokens if word.lower() not in custom_stopwords and not re.match(url_pattern, word)])\n",
    "\n",
    "# Print preprocessed tweets\n",
    "print(\"Preprocessed Tweets:\")\n",
    "print(df['preprocessed_tweets'])\n",
    "\n",
    "# Save preprocessed tweets to Excel file\n",
    "output_file = 'preprocessed_tweets.xlsx'\n",
    "df.to_excel(output_file, index=False)\n",
    "\n",
    "print(\"Preprocessed tweets saved to\", output_file)\n",
    "\n",
    "df.head()"
   ]
  },
  {
   "cell_type": "code",
   "execution_count": null,
   "metadata": {},
   "outputs": [],
   "source": [
    "import pandas as pd\n",
    "from nltk.tokenize import word_tokenize\n",
    "import re\n",
    "from wordcloud import WordCloud\n",
    "import matplotlib.pyplot as plt\n",
    "\n",
    "# Assuming you have already loaded your DataFrame df and preprocessed the tweets\n",
    "\n",
    "# Combine preprocessed words from all tweets into a single list\n",
    "all_words = [word for sublist in df['preprocessed_tweets'] for word in sublist]\n",
    "\n",
    "# Create a WordCloud object\n",
    "wordcloud = WordCloud(width=800, height=400, background_color='white').generate(' '.join(all_words))\n",
    "\n",
    "# Display the WordCloud using matplotlib\n",
    "plt.figure(figsize=(10, 6))\n",
    "plt.imshow(wordcloud, interpolation='bilinear')\n",
    "plt.axis('off')\n",
    "plt.title('Word Cloud - Most Frequent Words in Preprocessed Tweets')\n",
    "plt.show()\n"
   ]
  },
  {
   "cell_type": "markdown",
   "metadata": {
    "id": "vhnJE9DR0E1s"
   },
   "source": [
    "Parsing Text Using Regular\n",
    "**Expressions**  “re” library in Python"
   ]
  },
  {
   "cell_type": "code",
   "execution_count": null,
   "metadata": {},
   "outputs": [],
   "source": [
    "import pandas as pd\n",
    "import matplotlib.pyplot as plt\n",
    "from nltk.tokenize import word_tokenize\n",
    "from wordcloud import WordCloud\n",
    "from collections import Counter\n",
    "\n",
    "# Assuming you have already loaded your DataFrame df and performed tokenization\n",
    "\n",
    "# Combine all tokenized tweets into a single list of words\n",
    "all_words = [word for sublist in df['tokenized_tweets'] for word in sublist]\n",
    "\n",
    "# Calculate the total number of unique words\n",
    "total_unique_words = len(set(all_words))\n",
    "print(\"Total Unique Words:\", total_unique_words)\n",
    "\n",
    "# Create a WordCloud object\n",
    "wordcloud = WordCloud(width=800, height=400, background_color='white').generate(' '.join(all_words))\n",
    "\n",
    "# Display the WordCloud using matplotlib\n",
    "plt.figure(figsize=(10, 6))\n",
    "plt.imshow(wordcloud, interpolation='bilinear')\n",
    "plt.axis('off')\n",
    "plt.title('Word Cloud - Most Frequent Words in Tokenized Tweets without custom stop words')\n",
    "plt.show()\n"
   ]
  },
  {
   "cell_type": "markdown",
   "metadata": {},
   "source": [
    "here we have used the wordcloud with the custom stopwords that it removes internally but here we can see that a t and co is showing up in the most used words which is not seen in the data so it can be hazardous to blindly use readily available or inbuilt stop words dictionaries for our data."
   ]
  },
  {
   "cell_type": "markdown",
   "metadata": {
    "id": "NjyHXftT1Fsc"
   },
   "source": [
    "Text Pre-Processing\n",
    "1. Lowercasing\n",
    "2. Punctuation removal\n",
    "3. Stop words removal\n",
    "4. Text standardization - replace slang words with formal text,example b4 → before, chk → check e ,abbrevations etc\n",
    "5. Spelling correction\n",
    "6. Tokenization\n",
    "7. Stemming/Lemmatization ( will be using lemmatization)\n",
    "8. Exploratory data analysis\n",
    "9. Explore Semantic relationships\n",
    "10.\n"
   ]
  },
  {
   "cell_type": "code",
   "execution_count": null,
   "metadata": {
    "colab": {
     "base_uri": "https://localhost:8080/"
    },
    "id": "lVGijyXh0xig",
    "outputId": "de902eae-dc43-4c84-ae2e-933b898c1753"
   },
   "outputs": [],
   "source": [
    "# Define a regular expression pattern\n",
    "pattern = r'#\\w+'  # This pattern matches hashtags like #happy\n",
    "\n",
    "# Function to apply regular expression and extract matches\n",
    "def extract_hashtags(text):\n",
    "    hashtags = re.findall(pattern, text)\n",
    "    return hashtags\n",
    "\n",
    "# Apply the function to the 'tweets' column\n",
    "df['hashtags'] = df['tweets'].apply(extract_hashtags)\n",
    "df.head()"
   ]
  },
  {
   "cell_type": "markdown",
   "metadata": {
    "id": "aBufWDXx2sDC"
   },
   "source": [
    "strategy for abbrevation - identify the most used abbrevations through word cloud and then creawte the dictionary accordingly.\n",
    "Dealing with abbreviations in text data can be a bit challenging, as abbreviations can have various meanings depending on the context. However, we can approach this issue by creating a custom dictionary that maps abbreviations to their full forms and then replacing them in the text."
   ]
  },
  {
   "cell_type": "code",
   "execution_count": null,
   "metadata": {
    "colab": {
     "background_save": true,
     "base_uri": "https://localhost:8080/",
     "height": 49,
     "referenced_widgets": [
      "b6cd1462180c4d5ab38f8af60d41e5a6",
      "3e79d18ea0684529a71ca118209cd52d",
      "504116497c334976ae41fcd073e033d5",
      "ab1c5a61137047d4a153a3e6bbf9b3bc",
      "c2bb60bd23d24688862b7df84ccce3ea",
      "698084e516ca4fa6a228fda8e291a6b1",
      "9461168f06da4efeb37e2384767e48de",
      "4d62c64b39aa435a825379f9fb18c85e",
      "2c8e46f33e0f46ea88c9ff894febd72b",
      "6d8b87ed25ff4bd7b132e599482d7c10",
      "4e48a7bc50a34a7c9e9e351b6bcb3327"
     ]
    },
    "id": "yPbAXBRhv9gM",
    "outputId": "1f2e1a36-7114-49ef-9e8b-9d80c993c10e"
   },
   "outputs": [],
   "source": [
    "from nltk.tokenize import word_tokenize\n",
    "from nltk.stem import WordNetLemmatizer\n",
    "# Define a regular expression pattern to match URLs\n",
    "url_pattern = r'https?://\\S+'  # This pattern matches URLs starting with http:// or https://\n",
    "\n",
    "# Initialize the spell checker\n",
    "spell = SpellChecker()\n",
    "# Initialize the WordNet Lemmatizer\n",
    "lemmatizer = WordNetLemmatizer()\n",
    "# Function to standardize text\n",
    "# Function to remove URLs, punctuation, stopwords, and convert text to lowercase\n",
    "# Function to correct spelling and standardize text\n",
    "# Function to standardize text with tokenization and lemmatization\n",
    "\n",
    "def standardize_text(text):\n",
    "    # Remove URLs using regular expression\n",
    "    clean_text = re.sub(url_pattern, '', text)\n",
    "    # Remove punctuation using string.punctuation\n",
    "    clean_text = clean_text.translate(str.maketrans('', '', string.punctuation))\n",
    "    # Convert text to lowercase\n",
    "    lowercase_text = clean_text.lower()\n",
    "    # Remove accents using unidecode\n",
    "    standardized_text = unidecode(lowercase_text)\n",
    "\n",
    "    # Tokenize the text\n",
    "    words = word_tokenize(standardized_text)\n",
    "\n",
    "    # Lemmatize using WordNet Lemmatizer\n",
    "    lemmatized_words = [lemmatizer.lemmatize(word) for word in words]\n",
    "\n",
    "    # Correct spelling using pyspellchecker\n",
    "    corrected_words = [spell.correction(word) for word in lemmatized_words]\n",
    "\n",
    "    # Filter out None values (words that couldn't be corrected)\n",
    "    corrected_words = [word for word in corrected_words if word is not None]\n",
    "\n",
    "    # Remove stopwords using NLTK\n",
    "    stop_words = set(stopwords.words('english'))\n",
    "    filtered_words = [word for word in corrected_words if word not in stop_words]\n",
    "    return ' '.join(filtered_words)\n",
    "\n",
    "# Apply the function using tqdm to track progress\n",
    "tqdm.pandas()\n",
    "df['clean_tweets'] = df['tweets'].progress_apply(standardize_text)\n",
    "\n",
    "# Display the updated DataFrame\n",
    "df.head()\n"
   ]
  },
  {
   "cell_type": "code",
   "execution_count": null,
   "metadata": {
    "id": "ho2I5zkIS5q_"
   },
   "outputs": [],
   "source": [
    "# Identify and remove duplicates based on cleaned text\n",
    "unique_data = df.drop_duplicates(subset='clean_tweets', keep='first')"
   ]
  },
  {
   "cell_type": "markdown",
   "metadata": {
    "id": "Prlivjoe6Wx1"
   },
   "source": [
    "Exploratory data analysis"
   ]
  },
  {
   "cell_type": "code",
   "execution_count": null,
   "metadata": {
    "id": "8q8A1p5P-PIc"
   },
   "outputs": [],
   "source": [
    "from wordcloud import WordCloud\n",
    "\n",
    "\n",
    "# Combine all cleaned tweets into a single text\n",
    "all_tweets_text = ' '.join(df['clean_tweets'])\n",
    "\n",
    "# Generate a word cloud\n",
    "wordcloud = WordCloud(width=800, height=400, background_color='white').generate(all_tweets_text)\n",
    "\n",
    "# Display the word cloud using matplotlib\n",
    "plt.figure(figsize=(10, 5))\n",
    "plt.imshow(wordcloud, interpolation='bilinear')\n",
    "plt.axis('off')\n",
    "plt.title(\"Word Cloud of Cleaned Tweets\")\n",
    "plt.show()\n"
   ]
  },
  {
   "cell_type": "code",
   "execution_count": null,
   "metadata": {
    "id": "6Pb3ggpNz8Qt"
   },
   "outputs": [],
   "source": [
    "import seaborn  as sns\n",
    "\n",
    "# Word frequency analysis\n",
    "word_frequency = pd.Series(' '.join(df['clean_tweets']).split()).value_counts()[:50]\n",
    "\n",
    "# Create a figure for the bar plot\n",
    "plt.figure(figsize=(10, 6))\n",
    "sns.barplot(x=word_frequency.values, y=word_frequency.index, palette=\"viridis\")\n",
    "plt.title(\"Top 50 Most Frequent Words\")\n",
    "plt.xlabel(\"Frequency\")\n",
    "plt.ylabel(\"Word\")\n",
    "plt.show()\n",
    "\n"
   ]
  },
  {
   "cell_type": "code",
   "execution_count": null,
   "metadata": {
    "id": "kDdS9J2V_y6_"
   },
   "outputs": [],
   "source": [
    "# Word frequency analysis\n",
    "word_frequency = pd.Series(' '.join(df['clean_tweets']).split()).value_counts()[:50]\n",
    "\n",
    "# Create a DataFrame\n",
    "word_freq_df = pd.DataFrame({'Word': word_frequency.index, 'Frequency': word_frequency.values})\n",
    "\n",
    "# Display the DataFrame\n",
    "print(word_freq_df)"
   ]
  },
  {
   "cell_type": "code",
   "execution_count": null,
   "metadata": {
    "id": "31-k-Vcr_85I"
   },
   "outputs": [],
   "source": [
    "from nltk.sentiment.vader import SentimentIntensityAnalyzer\n",
    "\n",
    "# Initialize the NLTK Vader SentimentIntensityAnalyzer\n",
    "nltk.download('vader_lexicon')"
   ]
  },
  {
   "cell_type": "code",
   "execution_count": null,
   "metadata": {
    "id": "Tz5s5BoZ972a"
   },
   "outputs": [],
   "source": [
    "\n",
    "sia = SentimentIntensityAnalyzer()\n",
    "\n",
    "# Function to perform sentiment analysis using Vader SentimentIntensityAnalyzer\n",
    "def analyze_sentiment(text):\n",
    "    sentiment_scores = sia.polarity_scores(text)\n",
    "    if sentiment_scores['compound'] > 0.05:\n",
    "        return 'positive'\n",
    "    elif sentiment_scores['compound'] < -0.05:\n",
    "        return 'negative'\n",
    "    else:\n",
    "        return 'neutral'\n",
    "\n",
    "# Apply the sentiment analysis function to the 'tweets' column\n",
    "df['sentiment'] = df['tweets'].apply(analyze_sentiment)\n",
    "\n"
   ]
  },
  {
   "cell_type": "code",
   "execution_count": null,
   "metadata": {
    "id": "vbdQY6M1ApHK"
   },
   "outputs": [],
   "source": [
    "df.head()"
   ]
  },
  {
   "cell_type": "markdown",
   "metadata": {
    "id": "vCn43_8-BAUR"
   },
   "source": [
    "Sentiment Distribution Plot:\n",
    "Visualize the distribution of sentiments (positive, negative, neutral) using a bar plot."
   ]
  },
  {
   "cell_type": "code",
   "execution_count": null,
   "metadata": {
    "id": "rZUe3_6tHJiL"
   },
   "outputs": [],
   "source": [
    "# Count the number of each sentiment\n",
    "sentiment_counts = df['sentiment'].value_counts()\n",
    "\n",
    "# Create a figure\n",
    "fig = plt.figure(figsize=(12, 5))\n",
    "\n",
    "# Add a subplot\n",
    "ax = fig.add_subplot(111)\n",
    "\n",
    "# Create a bar plot\n",
    "sns.barplot(x=sentiment_counts.index, y=sentiment_counts.values, palette=\"Set2\", ax=ax)\n",
    "\n",
    "# Annotate the values on top of the bars\n",
    "for a, p in enumerate(ax.patches):\n",
    "    ax.annotate(format(p.get_height(), '.0f'), xy=(p.get_x() + p.get_width() / 2.0, p.get_height()),\n",
    "                xytext=(0, -25), size=13, color='white', ha='center', va='center', textcoords='offset points',\n",
    "                bbox=dict(boxstyle='round', facecolor='none', edgecolor='white', alpha=0.5))\n",
    "\n",
    "plt.title(\"Sentiment Distribution\", size=18)\n",
    "plt.xlabel(\"Sentiment\", size=15)\n",
    "plt.ylabel(\"Count\", size=15)\n",
    "plt.xticks(size=12)\n",
    "plt.show()\n"
   ]
  },
  {
   "cell_type": "code",
   "execution_count": null,
   "metadata": {
    "id": "TDsVqrlpCQeE"
   },
   "outputs": [],
   "source": [
    "# Pie Chart for Sentiment Proportions:\n",
    "# Create a pie chart\n",
    "plt.figure(figsize=(6, 6))\n",
    "plt.pie(sentiment_counts, labels=sentiment_counts.index, autopct='%1.1f%%', colors=sns.color_palette(\"Set2\"))\n",
    "plt.title(\"Sentiment Proportions\")\n",
    "plt.show()\n"
   ]
  },
  {
   "cell_type": "markdown",
   "metadata": {
    "id": "eD7I-ZOwChpN"
   },
   "source": [
    "Sentiment by Category:"
   ]
  },
  {
   "cell_type": "code",
   "execution_count": null,
   "metadata": {
    "id": "mB6YAw2hCfAV"
   },
   "outputs": [],
   "source": [
    "# Group by class and sentiment to analyze sentiment within classes\n",
    "sentiment_by_class = df.groupby(['class', 'sentiment']).size().unstack(fill_value=0)\n",
    "\n",
    "# Plot sentiment by class for each sentiment\n",
    "sentiments = ['positive', 'neutral', 'negative']\n",
    "for sentiment in sentiments:\n",
    "    plt.figure(figsize=(8, 6))\n",
    "    ax = sentiment_by_class[sentiment].plot(kind='bar', color=sns.color_palette(\"Set2\"), label=sentiment)\n",
    "    plt.title(f\"Sentiment Frequency by Class - {sentiment.capitalize()} Sentiment\")\n",
    "    plt.xlabel(\"Class\")\n",
    "    plt.ylabel(\"Count\")\n",
    "    plt.legend(title=\"Sentiment\")\n",
    "\n",
    "    # Add values on top of the bars\n",
    "    for p in ax.patches:\n",
    "        ax.annotate(str(p.get_height()), (p.get_x() + p.get_width() / 2., p.get_height()),\n",
    "                    ha='center', va='center', xytext=(0, 10), textcoords='offset points')\n",
    "\n",
    "    plt.show()\n"
   ]
  },
  {
   "cell_type": "code",
   "execution_count": null,
   "metadata": {
    "id": "plpoJejGPqkE"
   },
   "outputs": [],
   "source": [
    "# emoji analysis"
   ]
  },
  {
   "cell_type": "markdown",
   "metadata": {
    "id": "8eDJ2rEiE6-j"
   },
   "source": [
    "<h2>N-gram Analysis - excluding stop words</h2>\n",
    "<p>Analyze the frequency of word combinations (n-grams) to identify common phrases or patterns in the text. N-grams can help capture more context than individual words.</p>\n",
    "\n",
    "<img src=\"ngram_analysis.png\" alt=\"N-gram Analysis\">\n"
   ]
  },
  {
   "cell_type": "code",
   "execution_count": null,
   "metadata": {
    "id": "sKeGBFYnGT1Y"
   },
   "outputs": [],
   "source": [
    "import nltk\n",
    "from nltk.util import ngrams\n",
    "from nltk.tokenize import word_tokenize\n",
    "from collections import Counter\n",
    "\n",
    "\n",
    "# Specify the value of n for n-grams (e.g., 2 for bigrams, 3 for trigrams, etc.)\n",
    "n = 2\n",
    "\n",
    "# Tokenize the text in the 'clean_tweets' column and generate n-grams\n",
    "df['tokenized_tweets'] = df['clean_tweets'].apply(word_tokenize)\n",
    "df['ngram_list'] = df['tokenized_tweets'].apply(lambda tokens: list(ngrams(tokens, n)))\n",
    "\n",
    "# Count the frequency of n-grams\n",
    "df['ngram_freq'] = df['ngram_list'].apply(Counter)\n",
    "\n",
    "df.head()"
   ]
  },
  {
   "cell_type": "markdown",
   "metadata": {},
   "source": [
    "Questions for mam \n",
    "since we have hash tags which says sarcasm etc in the tweets but those are actually figurative category hence decided to seperate the hash tags and the statments."
   ]
  }
 ],
 "metadata": {
  "accelerator": "GPU",
  "colab": {
   "gpuType": "T4",
   "provenance": []
  },
  "kernelspec": {
   "display_name": "Python 3 (ipykernel)",
   "language": "python",
   "name": "python3"
  },
  "language_info": {
   "codemirror_mode": {
    "name": "ipython",
    "version": 3
   },
   "file_extension": ".py",
   "mimetype": "text/x-python",
   "name": "python",
   "nbconvert_exporter": "python",
   "pygments_lexer": "ipython3",
   "version": "3.11.3"
  },
  "widgets": {
   "application/vnd.jupyter.widget-state+json": {
    "2c8e46f33e0f46ea88c9ff894febd72b": {
     "model_module": "@jupyter-widgets/controls",
     "model_module_version": "1.5.0",
     "model_name": "ProgressStyleModel",
     "state": {
      "_model_module": "@jupyter-widgets/controls",
      "_model_module_version": "1.5.0",
      "_model_name": "ProgressStyleModel",
      "_view_count": null,
      "_view_module": "@jupyter-widgets/base",
      "_view_module_version": "1.2.0",
      "_view_name": "StyleView",
      "bar_color": null,
      "description_width": ""
     }
    },
    "3e79d18ea0684529a71ca118209cd52d": {
     "model_module": "@jupyter-widgets/controls",
     "model_module_version": "1.5.0",
     "model_name": "HTMLModel",
     "state": {
      "_dom_classes": [],
      "_model_module": "@jupyter-widgets/controls",
      "_model_module_version": "1.5.0",
      "_model_name": "HTMLModel",
      "_view_count": null,
      "_view_module": "@jupyter-widgets/controls",
      "_view_module_version": "1.5.0",
      "_view_name": "HTMLView",
      "description": "",
      "description_tooltip": null,
      "layout": "IPY_MODEL_698084e516ca4fa6a228fda8e291a6b1",
      "placeholder": "​",
      "style": "IPY_MODEL_9461168f06da4efeb37e2384767e48de",
      "value": "  0%"
     }
    },
    "4d62c64b39aa435a825379f9fb18c85e": {
     "model_module": "@jupyter-widgets/base",
     "model_module_version": "1.2.0",
     "model_name": "LayoutModel",
     "state": {
      "_model_module": "@jupyter-widgets/base",
      "_model_module_version": "1.2.0",
      "_model_name": "LayoutModel",
      "_view_count": null,
      "_view_module": "@jupyter-widgets/base",
      "_view_module_version": "1.2.0",
      "_view_name": "LayoutView",
      "align_content": null,
      "align_items": null,
      "align_self": null,
      "border": null,
      "bottom": null,
      "display": null,
      "flex": null,
      "flex_flow": null,
      "grid_area": null,
      "grid_auto_columns": null,
      "grid_auto_flow": null,
      "grid_auto_rows": null,
      "grid_column": null,
      "grid_gap": null,
      "grid_row": null,
      "grid_template_areas": null,
      "grid_template_columns": null,
      "grid_template_rows": null,
      "height": null,
      "justify_content": null,
      "justify_items": null,
      "left": null,
      "margin": null,
      "max_height": null,
      "max_width": null,
      "min_height": null,
      "min_width": null,
      "object_fit": null,
      "object_position": null,
      "order": null,
      "overflow": null,
      "overflow_x": null,
      "overflow_y": null,
      "padding": null,
      "right": null,
      "top": null,
      "visibility": null,
      "width": null
     }
    },
    "4e48a7bc50a34a7c9e9e351b6bcb3327": {
     "model_module": "@jupyter-widgets/controls",
     "model_module_version": "1.5.0",
     "model_name": "DescriptionStyleModel",
     "state": {
      "_model_module": "@jupyter-widgets/controls",
      "_model_module_version": "1.5.0",
      "_model_name": "DescriptionStyleModel",
      "_view_count": null,
      "_view_module": "@jupyter-widgets/base",
      "_view_module_version": "1.2.0",
      "_view_name": "StyleView",
      "description_width": ""
     }
    },
    "504116497c334976ae41fcd073e033d5": {
     "model_module": "@jupyter-widgets/controls",
     "model_module_version": "1.5.0",
     "model_name": "FloatProgressModel",
     "state": {
      "_dom_classes": [],
      "_model_module": "@jupyter-widgets/controls",
      "_model_module_version": "1.5.0",
      "_model_name": "FloatProgressModel",
      "_view_count": null,
      "_view_module": "@jupyter-widgets/controls",
      "_view_module_version": "1.5.0",
      "_view_name": "ProgressView",
      "bar_style": "",
      "description": "",
      "description_tooltip": null,
      "layout": "IPY_MODEL_4d62c64b39aa435a825379f9fb18c85e",
      "max": 81408,
      "min": 0,
      "orientation": "horizontal",
      "style": "IPY_MODEL_2c8e46f33e0f46ea88c9ff894febd72b",
      "value": 4
     }
    },
    "698084e516ca4fa6a228fda8e291a6b1": {
     "model_module": "@jupyter-widgets/base",
     "model_module_version": "1.2.0",
     "model_name": "LayoutModel",
     "state": {
      "_model_module": "@jupyter-widgets/base",
      "_model_module_version": "1.2.0",
      "_model_name": "LayoutModel",
      "_view_count": null,
      "_view_module": "@jupyter-widgets/base",
      "_view_module_version": "1.2.0",
      "_view_name": "LayoutView",
      "align_content": null,
      "align_items": null,
      "align_self": null,
      "border": null,
      "bottom": null,
      "display": null,
      "flex": null,
      "flex_flow": null,
      "grid_area": null,
      "grid_auto_columns": null,
      "grid_auto_flow": null,
      "grid_auto_rows": null,
      "grid_column": null,
      "grid_gap": null,
      "grid_row": null,
      "grid_template_areas": null,
      "grid_template_columns": null,
      "grid_template_rows": null,
      "height": null,
      "justify_content": null,
      "justify_items": null,
      "left": null,
      "margin": null,
      "max_height": null,
      "max_width": null,
      "min_height": null,
      "min_width": null,
      "object_fit": null,
      "object_position": null,
      "order": null,
      "overflow": null,
      "overflow_x": null,
      "overflow_y": null,
      "padding": null,
      "right": null,
      "top": null,
      "visibility": null,
      "width": null
     }
    },
    "6d8b87ed25ff4bd7b132e599482d7c10": {
     "model_module": "@jupyter-widgets/base",
     "model_module_version": "1.2.0",
     "model_name": "LayoutModel",
     "state": {
      "_model_module": "@jupyter-widgets/base",
      "_model_module_version": "1.2.0",
      "_model_name": "LayoutModel",
      "_view_count": null,
      "_view_module": "@jupyter-widgets/base",
      "_view_module_version": "1.2.0",
      "_view_name": "LayoutView",
      "align_content": null,
      "align_items": null,
      "align_self": null,
      "border": null,
      "bottom": null,
      "display": null,
      "flex": null,
      "flex_flow": null,
      "grid_area": null,
      "grid_auto_columns": null,
      "grid_auto_flow": null,
      "grid_auto_rows": null,
      "grid_column": null,
      "grid_gap": null,
      "grid_row": null,
      "grid_template_areas": null,
      "grid_template_columns": null,
      "grid_template_rows": null,
      "height": null,
      "justify_content": null,
      "justify_items": null,
      "left": null,
      "margin": null,
      "max_height": null,
      "max_width": null,
      "min_height": null,
      "min_width": null,
      "object_fit": null,
      "object_position": null,
      "order": null,
      "overflow": null,
      "overflow_x": null,
      "overflow_y": null,
      "padding": null,
      "right": null,
      "top": null,
      "visibility": null,
      "width": null
     }
    },
    "9461168f06da4efeb37e2384767e48de": {
     "model_module": "@jupyter-widgets/controls",
     "model_module_version": "1.5.0",
     "model_name": "DescriptionStyleModel",
     "state": {
      "_model_module": "@jupyter-widgets/controls",
      "_model_module_version": "1.5.0",
      "_model_name": "DescriptionStyleModel",
      "_view_count": null,
      "_view_module": "@jupyter-widgets/base",
      "_view_module_version": "1.2.0",
      "_view_name": "StyleView",
      "description_width": ""
     }
    },
    "ab1c5a61137047d4a153a3e6bbf9b3bc": {
     "model_module": "@jupyter-widgets/controls",
     "model_module_version": "1.5.0",
     "model_name": "HTMLModel",
     "state": {
      "_dom_classes": [],
      "_model_module": "@jupyter-widgets/controls",
      "_model_module_version": "1.5.0",
      "_model_name": "HTMLModel",
      "_view_count": null,
      "_view_module": "@jupyter-widgets/controls",
      "_view_module_version": "1.5.0",
      "_view_name": "HTMLView",
      "description": "",
      "description_tooltip": null,
      "layout": "IPY_MODEL_6d8b87ed25ff4bd7b132e599482d7c10",
      "placeholder": "​",
      "style": "IPY_MODEL_4e48a7bc50a34a7c9e9e351b6bcb3327",
      "value": " 4/81408 [00:08&lt;57:28:53,  2.54s/it]"
     }
    },
    "b6cd1462180c4d5ab38f8af60d41e5a6": {
     "model_module": "@jupyter-widgets/controls",
     "model_module_version": "1.5.0",
     "model_name": "HBoxModel",
     "state": {
      "_dom_classes": [],
      "_model_module": "@jupyter-widgets/controls",
      "_model_module_version": "1.5.0",
      "_model_name": "HBoxModel",
      "_view_count": null,
      "_view_module": "@jupyter-widgets/controls",
      "_view_module_version": "1.5.0",
      "_view_name": "HBoxView",
      "box_style": "",
      "children": [
       "IPY_MODEL_3e79d18ea0684529a71ca118209cd52d",
       "IPY_MODEL_504116497c334976ae41fcd073e033d5",
       "IPY_MODEL_ab1c5a61137047d4a153a3e6bbf9b3bc"
      ],
      "layout": "IPY_MODEL_c2bb60bd23d24688862b7df84ccce3ea"
     }
    },
    "c2bb60bd23d24688862b7df84ccce3ea": {
     "model_module": "@jupyter-widgets/base",
     "model_module_version": "1.2.0",
     "model_name": "LayoutModel",
     "state": {
      "_model_module": "@jupyter-widgets/base",
      "_model_module_version": "1.2.0",
      "_model_name": "LayoutModel",
      "_view_count": null,
      "_view_module": "@jupyter-widgets/base",
      "_view_module_version": "1.2.0",
      "_view_name": "LayoutView",
      "align_content": null,
      "align_items": null,
      "align_self": null,
      "border": null,
      "bottom": null,
      "display": null,
      "flex": null,
      "flex_flow": null,
      "grid_area": null,
      "grid_auto_columns": null,
      "grid_auto_flow": null,
      "grid_auto_rows": null,
      "grid_column": null,
      "grid_gap": null,
      "grid_row": null,
      "grid_template_areas": null,
      "grid_template_columns": null,
      "grid_template_rows": null,
      "height": null,
      "justify_content": null,
      "justify_items": null,
      "left": null,
      "margin": null,
      "max_height": null,
      "max_width": null,
      "min_height": null,
      "min_width": null,
      "object_fit": null,
      "object_position": null,
      "order": null,
      "overflow": null,
      "overflow_x": null,
      "overflow_y": null,
      "padding": null,
      "right": null,
      "top": null,
      "visibility": null,
      "width": null
     }
    }
   }
  }
 },
 "nbformat": 4,
 "nbformat_minor": 1
}
